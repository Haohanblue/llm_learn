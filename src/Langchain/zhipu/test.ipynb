{
 "cells": [
  {
   "cell_type": "code",
   "execution_count": 5,
   "metadata": {},
   "outputs": [
    {
     "name": "stderr",
     "output_type": "stream",
     "text": [
      "C:\\Users\\Administrator\\AppData\\Local\\Temp\\ipykernel_24472\\180620383.py:19: LangChainDeprecationWarning: The class `Chroma` was deprecated in LangChain 0.2.9 and will be removed in 1.0. An updated version of the class exists in the :class:`~langchain-chroma package and should be used instead. To use it run `pip install -U :class:`~langchain-chroma` and import as `from :class:`~langchain_chroma import Chroma``.\n",
      "  vectordb = Chroma(\n"
     ]
    },
    {
     "name": "stdout",
     "output_type": "stream",
     "text": [
      "向量库中存储的数量：313\n"
     ]
    },
    {
     "name": "stderr",
     "output_type": "stream",
     "text": [
      "C:\\Users\\Administrator\\AppData\\Local\\Temp\\ipykernel_24472\\180620383.py:52: LangChainDeprecationWarning: Please see the migration guide at: https://python.langchain.com/docs/versions/migrating_memory/\n",
      "  memory = ConversationBufferMemory(\n",
      "C:\\Users\\Administrator\\AppData\\Local\\Temp\\ipykernel_24472\\180620383.py:66: LangChainDeprecationWarning: The method `Chain.__call__` was deprecated in langchain 0.1.0 and will be removed in 1.0. Use :meth:`~invoke` instead.\n",
      "  result = qa({\"question\": question})\n"
     ]
    },
    {
     "name": "stdout",
     "output_type": "stream",
     "text": [
      "根据提供的上下文，针对“iNode客户端出现‘连接失败，请与管理员联系’”的问题，以下是一些可能的解决步骤：\n",
      "\n",
      "1. 确认网络连接是否正常，包括检查网络线缆、路由器状态等。\n",
      "2. 尝试重启电脑，有时候简单的重启可以解决连接问题。\n",
      "3. 检查用户凭证信息是否正确，确保用户名和密码无误。\n",
      "4. 如果是移动用户，可能需要在用户名后加上特定的标识（如@cm），具体取决于版本和系统要求。\n",
      "5. 如果以上步骤无效，可以在开始菜单中找到iNode智能客户端，选择卸载，并在卸载进程中选择“修复”尝试解决问题。\n",
      "6. 如果修复无效，可能需要完全卸载后重装客户端。\n",
      "7. 如果问题依然存在，根据提示，应当联系管理员以获取进一步的帮助。\n",
      "\n",
      "如果以上步骤都不能解决问题，那么应该按照提示联系管理员，因为可能涉及到更深层次的网络配置或服务器问题。\n"
     ]
    }
   ],
   "source": [
    "from zhipuai_llm import ZhipuAILLM\n",
    "from dotenv import load_dotenv\n",
    "import os\n",
    "load_dotenv(verbose=True)\n",
    "#获取当前目录\n",
    "pwd = os.getcwd()\n",
    "# 忽略警告\n",
    "import warnings\n",
    "# 忽略警告\n",
    "warnings.filterwarnings(\"ignore\")\n",
    "# 使用智谱 Embedding API，注意，需要将上一章实现的封装代码下载到本地\n",
    "from zhipuai_embedding import ZhipuAIEmbeddings\n",
    "from langchain.vectorstores.chroma import Chroma\n",
    "# 定义 Embeddings\n",
    "embedding = ZhipuAIEmbeddings()\n",
    "# 向量数据库持久化路径\n",
    "persist_directory = f'{pwd}/db'\n",
    "# 加载数据库\n",
    "vectordb = Chroma(\n",
    "    persist_directory=persist_directory,  # 允许我们将persist_directory目录保存到磁盘上\n",
    "    embedding_function=embedding\n",
    ")\n",
    "print(f\"向量库中存储的数量：{vectordb._collection.count()}\")\n",
    "\n",
    "\n",
    "from zhipuai_llm import ZhipuAILLM\n",
    "\n",
    "# 获取环境变量 API_KEY\n",
    "api_key = os.environ[\"ZHIPUAI_API_KEY\"] #填写控制台中获取的 APIKey 信息\n",
    "llm = ZhipuAILLM(model = \"glm-4-air\", temperature = 0, api_key = api_key)  #model=\"glm-4-0520\", \n",
    "from langchain.prompts import PromptTemplate\n",
    "\n",
    "template = \"\"\"使用以下上下文来回答最后的问题。如果你不知道答案，就说你不知道，不要试图编造答\n",
    "案。最多使用三句话。尽量使答案简明扼要。总是在回答的最后说“谢谢你的提问！”。\n",
    "{context}\n",
    "问题: {question}\n",
    "\"\"\"\n",
    "\n",
    "QA_CHAIN_PROMPT = PromptTemplate(input_variables=[\"context\",\"question\"],\n",
    "                                 template=template)\n",
    "\n",
    "from langchain.chains import RetrievalQA\n",
    "\n",
    "qa_chain = RetrievalQA.from_chain_type(llm,\n",
    "                                       retriever=vectordb.as_retriever(),\n",
    "                                       return_source_documents=True,\n",
    "                                       chain_type_kwargs={\"prompt\":QA_CHAIN_PROMPT})\n",
    "\n",
    "\n",
    "from langchain.memory import ConversationBufferMemory\n",
    "\n",
    "memory = ConversationBufferMemory(\n",
    "    memory_key=\"chat_history\",  # 与 prompt 的输入变量保持一致。\n",
    "    return_messages=True  # 将以消息列表的形式返回聊天记录，而不是单个字符串\n",
    ")\n",
    "from langchain.chains import ConversationalRetrievalChain\n",
    "\n",
    "retriever=vectordb.as_retriever()\n",
    "\n",
    "qa = ConversationalRetrievalChain.from_llm(\n",
    "    llm,\n",
    "    retriever=retriever,\n",
    "    memory=memory\n",
    ")\n",
    "question = \"iNode客户端出现“连接失败，请与管理员联系”怎么办？\"\n",
    "result = qa({\"question\": question})\n",
    "print(result['answer'])\n",
    "\n"
   ]
  },
  {
   "cell_type": "code",
   "execution_count": 7,
   "metadata": {},
   "outputs": [
    {
     "name": "stdout",
     "output_type": "stream",
     "text": [
      "出现“连接失败，请与管理员联系”这个问题可能有多种原因，根据提供的上下文，可能的原因包括：\n",
      "\n",
      "1. 网络设置问题，如无法获取IP地址。\n",
      "2. 用户凭证信息（如用户名或密码）不正确。\n",
      "3. iNode服务在Windows上无法启动或存在版本问题，如移动用户的iNode需要在用户名后加@cm。\n",
      "4. 服务不存在或已被标记为删除，如错误1075所描述。\n",
      "\n",
      "具体原因需要根据实际情况进一步诊断。\n"
     ]
    }
   ],
   "source": [
    "question = \"中文回答我，出现这个问题的原因是什么？\"\n",
    "result = qa({\"question\": question})\n",
    "print(result['answer'])"
   ]
  }
 ],
 "metadata": {
  "kernelspec": {
   "display_name": ".venv",
   "language": "python",
   "name": "python3"
  },
  "language_info": {
   "codemirror_mode": {
    "name": "ipython",
    "version": 3
   },
   "file_extension": ".py",
   "mimetype": "text/x-python",
   "name": "python",
   "nbconvert_exporter": "python",
   "pygments_lexer": "ipython3",
   "version": "3.11.9"
  }
 },
 "nbformat": 4,
 "nbformat_minor": 2
}
